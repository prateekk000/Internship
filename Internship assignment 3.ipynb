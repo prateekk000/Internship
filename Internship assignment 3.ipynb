{
 "cells": [
  {
   "cell_type": "code",
   "execution_count": 1,
   "id": "60942bde",
   "metadata": {},
   "outputs": [
    {
     "name": "stdout",
     "output_type": "stream",
     "text": [
      "Python:Exercises::PHP:exercises:\n"
     ]
    }
   ],
   "source": [
    "def replace_chars_with_colon(text):\n",
    "    replacements = [' ', ',', '.']\n",
    "    for char in replacements:\n",
    "        text = text.replace(char, ':')\n",
    "    return text\n",
    "\n",
    "sample_text = 'Python Exercises, PHP exercises.'\n",
    "result = replace_chars_with_colon(sample_text)\n",
    "print(result)"
   ]
  },
  {
   "cell_type": "code",
   "execution_count": 3,
   "id": "925cc7ce",
   "metadata": {},
   "outputs": [
    {
     "name": "stdout",
     "output_type": "stream",
     "text": [
      "['Apples', 'are', 'awesome', 'and', 'elephants', 'eat', 'apples']\n"
     ]
    }
   ],
   "source": [
    "import re\n",
    "\n",
    "def find_words_starting_with_a_or_e(text):\n",
    "    pattern = r'\\b[aeAE]\\w*\\b'\n",
    "    words = re.findall(pattern, text)\n",
    "    return words\n",
    "\n",
    "sample_text = \"Apples are awesome and elephants eat apples.\"\n",
    "result = find_words_starting_with_a_or_e(sample_text)\n",
    "print(result)"
   ]
  },
  {
   "cell_type": "code",
   "execution_count": 4,
   "id": "99b9de08",
   "metadata": {},
   "outputs": [
    {
     "name": "stdout",
     "output_type": "stream",
     "text": [
      "['strongest', 'person', 'whole', 'world', 'becuase', 'expert']\n"
     ]
    }
   ],
   "source": [
    "import re\n",
    "\n",
    "def find_words_at_least_4_characters(text):\n",
    "    pattern = re.compile(r'\\b\\w{4,}\\b')\n",
    "    words = pattern.findall(text)\n",
    "    return words\n",
    "\n",
    "sample_text = \"He is the strongest person in whole world becuase he is expert in MMA\"\n",
    "result = find_words_at_least_4_characters(sample_text)\n",
    "print(result)\n"
   ]
  },
  {
   "cell_type": "code",
   "execution_count": 5,
   "id": "694f1384",
   "metadata": {},
   "outputs": [
    {
     "name": "stdout",
     "output_type": "stream",
     "text": [
      "['The', 'quick', 'brown', 'fox', 'jumps', 'over', 'the', 'lazy', 'dog']\n"
     ]
    }
   ],
   "source": [
    "import re\n",
    "\n",
    "def find_words_of_length_3_4_5(text):\n",
    "    pattern = re.compile(r'\\b\\w{3,5}\\b')\n",
    "    words = pattern.findall(text)\n",
    "    return words\n",
    "\n",
    "sample_text = \"The quick brown fox jumps over the lazy dog.\"\n",
    "result = find_words_of_length_3_4_5(sample_text)\n",
    "print(result)"
   ]
  },
  {
   "cell_type": "code",
   "execution_count": 16,
   "id": "9efa26b8",
   "metadata": {},
   "outputs": [
    {
     "name": "stdout",
     "output_type": "stream",
     "text": [
      "['example ', 'hr@fliprobo ', 'github ', 'Hello ', 'Data ']\n"
     ]
    }
   ],
   "source": [
    "import re\n",
    "\n",
    "\n",
    "def remove_parenthesis(lst):\n",
    "    pattern = re.compile(r'\\([^)]*\\)')\n",
    "    for i in range(len(lst)):\n",
    "        lst[i] = pattern.sub('', lst[i])\n",
    "    return lst\n",
    "text = [\"example (.com)\", \"hr@fliprobo (.com)\", \"github (.com)\", \"Hello (Data Science World)\", \"Data (Scientist)\"]\n",
    "\n",
    "result = remove_parenthesis(text)\n",
    "\n",
    "print(result)"
   ]
  },
  {
   "cell_type": "code",
   "execution_count": 32,
   "id": "d4c7bb79",
   "metadata": {},
   "outputs": [
    {
     "name": "stdout",
     "output_type": "stream",
     "text": [
      "example\n",
      "hr@fliprobo\n",
      "github\n",
      "Hello\n",
      "Data\n"
     ]
    }
   ],
   "source": [
    "import re\n",
    "\n",
    "def remove_parentheses_area(text):\n",
    "    pattern = re.compile(r'\\s*\\([^)]*\\)')\n",
    "    cleaned_text = [re.sub(pattern, '', line) for line in text]\n",
    "    return cleaned_text\n",
    "\n",
    "file_path = r\"C:\\Users\\parte\\OneDrive\\Documents\\sample_text.txt\"\n",
    "\n",
    "with open(file_path, 'r') as file:\n",
    "    sample_text = file.readlines()\n",
    "\n",
    "cleaned_output = remove_parentheses_area(sample_text)\n",
    "\n",
    "for item in cleaned_output:\n",
    "    print(item.strip())\n"
   ]
  },
  {
   "cell_type": "code",
   "execution_count": 33,
   "id": "86df34a9",
   "metadata": {},
   "outputs": [
    {
     "name": "stdout",
     "output_type": "stream",
     "text": [
      "['Importance', 'Of', 'Regular', 'Expressions', 'In', 'Python']\n"
     ]
    }
   ],
   "source": [
    "import re\n",
    "\n",
    "def split_by_uppercase(text):\n",
    "    pattern = re.compile(r'[A-Z][a-z]*')\n",
    "    words = pattern.findall(text)\n",
    "    return words\n",
    "\n",
    "sample_text = \"ImportanceOfRegularExpressionsInPython\"\n",
    "result = split_by_uppercase(sample_text)\n",
    "print(result)\n"
   ]
  },
  {
   "cell_type": "code",
   "execution_count": 34,
   "id": "a2631109",
   "metadata": {},
   "outputs": [
    {
     "name": "stdout",
     "output_type": "stream",
     "text": [
      "RegularExpression 1 IsAn 2 ImportantTopic 3 InPython\n"
     ]
    }
   ],
   "source": [
    "import re\n",
    "\n",
    "def insert_spaces_between_numbers(text):\n",
    "    pattern = re.compile(r'(?<=\\D)(?=\\d)|(?<=\\d)(?=\\D)')\n",
    "    result = pattern.sub(' ', text)\n",
    "    return result\n",
    "\n",
    "sample_text = \"RegularExpression1IsAn2ImportantTopic3InPython\"\n",
    "output = insert_spaces_between_numbers(sample_text)\n",
    "print(output)\n"
   ]
  },
  {
   "cell_type": "code",
   "execution_count": 35,
   "id": "9e4f4ec0",
   "metadata": {},
   "outputs": [
    {
     "name": "stdout",
     "output_type": "stream",
     "text": [
      "Regular Expression 1 Is An 2 Important Topic 3 In Python\n"
     ]
    }
   ],
   "source": [
    "import re\n",
    "\n",
    "def insert_spaces_between_capital_or_numbers(text):\n",
    "    pattern = re.compile(r'(?<=[a-z])(?=[A-Z0-9])|(?<=[A-Z0-9])(?=[A-Z])')\n",
    "    result = pattern.sub(' ', text)\n",
    "    return result\n",
    "\n",
    "sample_text = \"RegularExpression1IsAn2ImportantTopic3InPython\"\n",
    "output = insert_spaces_between_capital_or_numbers(sample_text)\n",
    "print(output)\n"
   ]
  },
  {
   "cell_type": "code",
   "execution_count": 36,
   "id": "d9d6dd9d",
   "metadata": {},
   "outputs": [
    {
     "name": "stdout",
     "output_type": "stream",
     "text": [
      "xyz@domain.com\n",
      "xyz.abc@sdomain.domain.com\n",
      "hr@fliprobo.com\n"
     ]
    }
   ],
   "source": [
    "import re\n",
    "\n",
    "def extract_email_addresses(text):\n",
    "    pattern = re.compile(r'\\b[A-Za-z0-9._%+-]+@[A-Za-z0-9.-]+\\.[A-Z|a-z]{2,7}\\b')\n",
    "    emails = pattern.findall(text)\n",
    "    return emails\n",
    "\n",
    "file_path = r\"C:\\Users\\parte\\OneDrive\\Documents\\sample_text1.txt\"\n",
    "\n",
    "with open(file_path, 'r') as file:\n",
    "    sample_text = file.read()\n",
    "\n",
    "extracted_emails = extract_email_addresses(sample_text)\n",
    "\n",
    "for email in extracted_emails:\n",
    "    print(email)\n"
   ]
  },
  {
   "cell_type": "code",
   "execution_count": 37,
   "id": "a27400d8",
   "metadata": {},
   "outputs": [
    {
     "name": "stdout",
     "output_type": "stream",
     "text": [
      "'Valid_String123' is a valid string.\n",
      "'Another_Valid_String' is a valid string.\n",
      "'Not_Valid$String' is not a valid string.\n",
      "'Invalid String' is not a valid string.\n"
     ]
    }
   ],
   "source": [
    "import re\n",
    "\n",
    "def is_valid_string(text):\n",
    "    pattern = re.compile(r'^[A-Za-z0-9_]*$')\n",
    "    return pattern.match(text) is not None\n",
    "\n",
    "sample_strings = [\n",
    "    \"Valid_String123\",\n",
    "    \"Another_Valid_String\",\n",
    "    \"Not_Valid$String\",\n",
    "    \"Invalid String\"\n",
    "]\n",
    "\n",
    "for text in sample_strings:\n",
    "    if is_valid_string(text):\n",
    "        print(f\"'{text}' is a valid string.\")\n",
    "    else:\n",
    "        print(f\"'{text}' is not a valid string.\")\n"
   ]
  },
  {
   "cell_type": "code",
   "execution_count": 39,
   "id": "23594393",
   "metadata": {},
   "outputs": [
    {
     "name": "stdout",
     "output_type": "stream",
     "text": [
      "'12345' starts with 123.\n",
      "'123abc' starts with 123.\n",
      "'456def' does not start with 123.\n",
      "'789xyz' does not start with 123.\n"
     ]
    }
   ],
   "source": [
    "def starts_with_specific_number(text, specific_number):\n",
    "    return text.startswith(str(specific_number))\n",
    "\n",
    "specific_number = 123\n",
    "sample_strings = [\n",
    "    \"12345\",\n",
    "    \"123abc\",\n",
    "    \"456def\",\n",
    "    \"789xyz\"\n",
    "]\n",
    "\n",
    "for text in sample_strings:\n",
    "    if starts_with_specific_number(text, specific_number):\n",
    "        print(f\"'{text}' starts with {specific_number}.\")\n",
    "    else:\n",
    "        print(f\"'{text}' does not start with {specific_number}.\")\n"
   ]
  },
  {
   "cell_type": "code",
   "execution_count": 40,
   "id": "c82c725d",
   "metadata": {},
   "outputs": [
    {
     "name": "stdout",
     "output_type": "stream",
     "text": [
      "192.168.1.10\n"
     ]
    }
   ],
   "source": [
    "def remove_leading_zeros(ip_address):\n",
    "    parts = ip_address.split('.')\n",
    "    stripped_parts = [str(int(part)) for part in parts]\n",
    "    return '.'.join(stripped_parts)\n",
    "\n",
    "ip_address_with_zeros = \"192.168.001.010\"\n",
    "ip_address_without_zeros = remove_leading_zeros(ip_address_with_zeros)\n",
    "print(ip_address_without_zeros)"
   ]
  },
  {
   "cell_type": "code",
   "execution_count": 41,
   "id": "e02d4b2b",
   "metadata": {},
   "outputs": [
    {
     "name": "stdout",
     "output_type": "stream",
     "text": [
      "August 15th 1947\n"
     ]
    }
   ],
   "source": [
    "import re\n",
    "\n",
    "def extract_date(text):\n",
    "    pattern = re.compile(r'\\b[A-Z][a-z]* \\d+(?:st|nd|rd|th)? \\d{4}\\b')\n",
    "    date = pattern.search(text)\n",
    "    return date.group() if date else None\n",
    "\n",
    "file_path = r\"C:\\Users\\parte\\OneDrive\\Documents\\sample_text2.txt\"\n",
    "\n",
    "with open(file_path, 'r') as file:\n",
    "    sample_text = file.read()\n",
    "\n",
    "extracted_date = extract_date(sample_text)\n",
    "\n",
    "if extracted_date:\n",
    "    print(extracted_date)\n",
    "else:\n",
    "    print(\"Date not found.\")\n"
   ]
  },
  {
   "cell_type": "code",
   "execution_count": 42,
   "id": "a9dde549",
   "metadata": {},
   "outputs": [
    {
     "name": "stdout",
     "output_type": "stream",
     "text": [
      "'fox'\n",
      "'dog'\n"
     ]
    }
   ],
   "source": [
    "def search_words(text, words):\n",
    "    found_words = [word for word in words if word in text]\n",
    "    return found_words\n",
    "\n",
    "sample_text = 'The quick brown fox jumps over the lazy dog.'\n",
    "searched_words = ['fox', 'dog', 'horse']\n",
    "\n",
    "found_words = search_words(sample_text, searched_words)\n",
    "\n",
    "for word in found_words:\n",
    "    print(f\"'{word}'\")\n"
   ]
  },
  {
   "cell_type": "code",
   "execution_count": 43,
   "id": "402be9e0",
   "metadata": {},
   "outputs": [
    {
     "name": "stdout",
     "output_type": "stream",
     "text": [
      "'fox' found at position 16.\n"
     ]
    }
   ],
   "source": [
    "def search_and_find_location(text, pattern):\n",
    "    locations = []\n",
    "    start = 0\n",
    "    while True:\n",
    "        found = text.find(pattern, start)\n",
    "        if found == -1:\n",
    "            break\n",
    "        locations.append(found)\n",
    "        start = found + 1\n",
    "    return locations\n",
    "\n",
    "sample_text = 'The quick brown fox jumps over the lazy dog.'\n",
    "searched_word = 'fox'\n",
    "\n",
    "found_locations = search_and_find_location(sample_text, searched_word)\n",
    "\n",
    "if found_locations:\n",
    "    for location in found_locations:\n",
    "        print(f\"'{searched_word}' found at position {location}.\")\n",
    "else:\n",
    "    print(f\"'{searched_word}' not found in the text.\")\n"
   ]
  },
  {
   "cell_type": "code",
   "execution_count": 44,
   "id": "f6d4c157",
   "metadata": {},
   "outputs": [
    {
     "name": "stdout",
     "output_type": "stream",
     "text": [
      "'exercises' found at position 7.\n",
      "'exercises' found at position 22.\n",
      "'exercises' found at position 36.\n"
     ]
    }
   ],
   "source": [
    "def find_substrings(text, pattern):\n",
    "    start = 0\n",
    "    locations = []\n",
    "    while True:\n",
    "        found = text.find(pattern, start)\n",
    "        if found == -1:\n",
    "            break\n",
    "        locations.append(found)\n",
    "        start = found + 1\n",
    "    return locations\n",
    "\n",
    "sample_text = 'Python exercises, PHP exercises, C# exercises'\n",
    "searched_pattern = 'exercises'\n",
    "\n",
    "found_locations = find_substrings(sample_text, searched_pattern)\n",
    "\n",
    "if found_locations:\n",
    "    for location in found_locations:\n",
    "        print(f\"'{searched_pattern}' found at position {location}.\")\n",
    "else:\n",
    "    print(f\"'{searched_pattern}' not found in the text.\")\n"
   ]
  },
  {
   "cell_type": "code",
   "execution_count": 45,
   "id": "0211070a",
   "metadata": {},
   "outputs": [
    {
     "name": "stdout",
     "output_type": "stream",
     "text": [
      "'exercises' found at position 7, occurrence 1.\n",
      "'exercises' found at position 22, occurrence 2.\n",
      "'exercises' found at position 36, occurrence 3.\n",
      "'exercises' found at position 54, occurrence 4.\n"
     ]
    }
   ],
   "source": [
    "def find_occurrence_and_position(text, pattern):\n",
    "    start = 0\n",
    "    occurrences = []\n",
    "    while True:\n",
    "        found = text.find(pattern, start)\n",
    "        if found == -1:\n",
    "            break\n",
    "        occurrences.append(found)\n",
    "        start = found + 1\n",
    "    return occurrences\n",
    "\n",
    "sample_text = 'Python exercises, PHP exercises, C# exercises, Python exercises'\n",
    "searched_pattern = 'exercises'\n",
    "\n",
    "found_occurrences = find_occurrence_and_position(sample_text, searched_pattern)\n",
    "\n",
    "if found_occurrences:\n",
    "    for index, occurrence in enumerate(found_occurrences, start=1):\n",
    "        print(f\"'{searched_pattern}' found at position {occurrence}, occurrence {index}.\")\n",
    "else:\n",
    "    print(f\"'{searched_pattern}' not found in the text.\")\n"
   ]
  },
  {
   "cell_type": "code",
   "execution_count": 46,
   "id": "b3eebc31",
   "metadata": {},
   "outputs": [
    {
     "name": "stdout",
     "output_type": "stream",
     "text": [
      "Original date: 2023-08-27\n",
      "Converted date: 27-08-2023\n"
     ]
    }
   ],
   "source": [
    "def convert_date_format(date):\n",
    "    parts = date.split('-')\n",
    "    if len(parts) == 3:\n",
    "        year, month, day = parts\n",
    "        return f\"{day}-{month}-{year}\"\n",
    "    else:\n",
    "        return \"Invalid date format\"\n",
    "\n",
    "input_date = \"2023-08-27\"\n",
    "converted_date = convert_date_format(input_date)\n",
    "print(f\"Original date: {input_date}\")\n",
    "print(f\"Converted date: {converted_date}\")\n"
   ]
  },
  {
   "cell_type": "code",
   "execution_count": 47,
   "id": "d128c7f2",
   "metadata": {},
   "outputs": [
    {
     "name": "stdout",
     "output_type": "stream",
     "text": [
      "['01.12', '145.8', '3.01', '27.25', '0.25']\n"
     ]
    }
   ],
   "source": [
    "import re\n",
    "\n",
    "def find_decimal_numbers(text):\n",
    "    pattern = re.compile(r'\\b\\d+\\.\\d{1,2}\\b')\n",
    "    decimals = pattern.findall(text)\n",
    "    return decimals\n",
    "\n",
    "sample_text = \"01.12 0132.123 2.31875 145.8 3.01 27.25 0.25\"\n",
    "decimal_numbers = find_decimal_numbers(sample_text)\n",
    "print(decimal_numbers)\n"
   ]
  },
  {
   "cell_type": "code",
   "execution_count": 48,
   "id": "209a7fcb",
   "metadata": {},
   "outputs": [
    {
     "name": "stdout",
     "output_type": "stream",
     "text": [
      "Number: 123, Position: 6\n",
      "Number: 456, Position: 19\n",
      "Number: 789, Position: 27\n"
     ]
    }
   ],
   "source": [
    "def separate_numbers(text):\n",
    "    numbers = []\n",
    "    positions = []\n",
    "    start = 0\n",
    "\n",
    "    while start < len(text):\n",
    "        while start < len(text) and not text[start].isdigit():\n",
    "            start += 1\n",
    "\n",
    "        if start < len(text):\n",
    "            end = start\n",
    "            while end < len(text) and text[end].isdigit():\n",
    "                end += 1\n",
    "\n",
    "            number = int(text[start:end])\n",
    "            numbers.append(number)\n",
    "            positions.append(start)\n",
    "            start = end\n",
    "\n",
    "    return numbers, positions\n",
    "\n",
    "sample_text = \"Hello 123, this is 456 and 789.\"\n",
    "numbers, positions = separate_numbers(sample_text)\n",
    "\n",
    "for number, position in zip(numbers, positions):\n",
    "    print(f\"Number: {number}, Position: {position}\")\n"
   ]
  },
  {
   "cell_type": "code",
   "execution_count": 49,
   "id": "2fe396ed",
   "metadata": {},
   "outputs": [
    {
     "name": "stdout",
     "output_type": "stream",
     "text": [
      "The maximum numeric value is: 950\n"
     ]
    }
   ],
   "source": [
    "import re\n",
    "\n",
    "def extract_maximum_numeric_value(text):\n",
    "    numbers = re.findall(r'\\b\\d+\\b', text)\n",
    "    if numbers:\n",
    "        max_number = max(map(int, numbers))\n",
    "        return max_number\n",
    "    else:\n",
    "        return None\n",
    "\n",
    "sample_text = 'My marks in each semester are: 947, 896, 926, 524, 734, 950, 642'\n",
    "maximum_numeric_value = extract_maximum_numeric_value(sample_text)\n",
    "\n",
    "if maximum_numeric_value is not None:\n",
    "    print(f\"The maximum numeric value is: {maximum_numeric_value}\")\n",
    "else:\n",
    "    print(\"No numeric values found in the text.\")\n"
   ]
  },
  {
   "cell_type": "code",
   "execution_count": 50,
   "id": "acdb4add",
   "metadata": {},
   "outputs": [
    {
     "name": "stdout",
     "output_type": "stream",
     "text": [
      "Regular Expression Is An Important Topic In Python\n"
     ]
    }
   ],
   "source": [
    "import re\n",
    "\n",
    "def insert_spaces_before_capital(text):\n",
    "    pattern = re.compile(r'(?<=\\w)([A-Z])')\n",
    "    result = pattern.sub(r' \\1', text)\n",
    "    return result\n",
    "\n",
    "sample_text = \"RegularExpressionIsAnImportantTopicInPython\"\n",
    "output_text = insert_spaces_before_capital(sample_text)\n",
    "print(output_text)\n"
   ]
  },
  {
   "cell_type": "code",
   "execution_count": 51,
   "id": "dfa4f730",
   "metadata": {},
   "outputs": [
    {
     "name": "stdout",
     "output_type": "stream",
     "text": [
      "['Abc', 'De', 'Hi', 'Jkl']\n"
     ]
    }
   ],
   "source": [
    "import re\n",
    "\n",
    "pattern = re.compile(r'[A-Z][a-z]+')\n",
    "\n",
    "text = \"Abc DeF gHi Jkl\"\n",
    "matches = pattern.findall(text)\n",
    "\n",
    "print(matches)\n"
   ]
  },
  {
   "cell_type": "code",
   "execution_count": 52,
   "id": "fc6f1f2d",
   "metadata": {},
   "outputs": [
    {
     "name": "stdout",
     "output_type": "stream",
     "text": [
      "Hello world\n"
     ]
    }
   ],
   "source": [
    "import re\n",
    "\n",
    "def remove_continuous_duplicates(sentence):\n",
    "    pattern = re.compile(r'\\b(\\w+)(?:\\s+\\1)+\\b', flags=re.IGNORECASE)\n",
    "    cleaned_sentence = pattern.sub(r'\\1', sentence)\n",
    "    return cleaned_sentence\n",
    "\n",
    "sample_text = \"Hello hello world world\"\n",
    "output_text = remove_continuous_duplicates(sample_text)\n",
    "print(output_text)\n"
   ]
  },
  {
   "cell_type": "code",
   "execution_count": 53,
   "id": "d3c3fa7e",
   "metadata": {},
   "outputs": [
    {
     "name": "stdout",
     "output_type": "stream",
     "text": [
      "'Hello123' ends with an alphanumeric character.\n",
      "'Python-' does not end with an alphanumeric character.\n",
      "'Alphanumeric9' ends with an alphanumeric character.\n",
      "'Testing!' does not end with an alphanumeric character.\n",
      "'EndsWithNumber0' ends with an alphanumeric character.\n"
     ]
    }
   ],
   "source": [
    "import re\n",
    "\n",
    "def is_ending_with_alphanumeric(text):\n",
    "    pattern = re.compile(r'^.*[a-zA-Z0-9]$')\n",
    "    return bool(pattern.match(text))\n",
    "\n",
    "sample_strings = [\n",
    "    \"Hello123\",\n",
    "    \"Python-\",\n",
    "    \"Alphanumeric9\",\n",
    "    \"Testing!\",\n",
    "    \"EndsWithNumber0\",\n",
    "]\n",
    "\n",
    "for text in sample_strings:\n",
    "    if is_ending_with_alphanumeric(text):\n",
    "        print(f\"'{text}' ends with an alphanumeric character.\")\n",
    "    else:\n",
    "        print(f\"'{text}' does not end with an alphanumeric character.\")\n"
   ]
  },
  {
   "cell_type": "code",
   "execution_count": 54,
   "id": "a5370037",
   "metadata": {},
   "outputs": [
    {
     "name": "stdout",
     "output_type": "stream",
     "text": [
      "['#Doltiwal', '#xyzabc', '#Demonetization']\n"
     ]
    }
   ],
   "source": [
    "import re\n",
    "\n",
    "def extract_hashtags(text):\n",
    "    pattern = re.compile(r'#\\w+')\n",
    "    hashtags = pattern.findall(text)\n",
    "    return hashtags\n",
    "\n",
    "sample_text = \"\"\"RT @kapil_kausik: #Doltiwal I mean #xyzabc is \"hurt\" by #Demonetization as the same has rendered USELESS <ed><U+00A0><U+00BD><ed><U+00B1><U+0089> \"acquired funds\" No wo\"\"\"\n",
    "hashtags = extract_hashtags(sample_text)\n",
    "print(hashtags)\n"
   ]
  },
  {
   "cell_type": "code",
   "execution_count": 55,
   "id": "759623d3",
   "metadata": {},
   "outputs": [
    {
     "name": "stdout",
     "output_type": "stream",
     "text": [
      "@Jags123456 Bharat band on 28??<ed><ed>Those who  are protesting #demonetization  are all different party leaders\n"
     ]
    }
   ],
   "source": [
    "import re\n",
    "\n",
    "def remove_special_symbols(text):\n",
    "    pattern = re.compile(r'<U\\+[A-Fa-f0-9]{4}>')\n",
    "    cleaned_text = pattern.sub('', text)\n",
    "    return cleaned_text\n",
    "\n",
    "sample_text = \"@Jags123456 Bharat band on 28??<ed><U+00A0><U+00BD><ed><U+00B8><U+0082>Those who  are protesting #demonetization  are all different party leaders\"\n",
    "cleaned_text = remove_special_symbols(sample_text)\n",
    "print(cleaned_text)\n"
   ]
  },
  {
   "cell_type": "code",
   "execution_count": 56,
   "id": "e0416ab7",
   "metadata": {},
   "outputs": [
    {
     "name": "stdout",
     "output_type": "stream",
     "text": [
      "12-09-1992\n",
      "15-12-1999\n"
     ]
    }
   ],
   "source": [
    "import re\n",
    "\n",
    "def extract_dates_from_text(text):\n",
    "    pattern = re.compile(r'\\b\\d{2}-\\d{2}-\\d{4}\\b')\n",
    "    dates = pattern.findall(text)\n",
    "    return dates\n",
    "\n",
    "file_path = r\"C:\\Users\\parte\\OneDrive\\Documents\\sample_text3.txt\"\n",
    "\n",
    "with open(file_path, 'r') as file:\n",
    "    sample_text = file.read()\n",
    "\n",
    "extracted_dates = extract_dates_from_text(sample_text)\n",
    "\n",
    "if extracted_dates:\n",
    "    for date in extracted_dates:\n",
    "        print(date)\n",
    "else:\n",
    "    print(\"No dates found in the text.\")\n"
   ]
  },
  {
   "cell_type": "code",
   "execution_count": 57,
   "id": "fd96a00d",
   "metadata": {},
   "outputs": [
    {
     "name": "stdout",
     "output_type": "stream",
     "text": [
      " following example creates  ArrayList  a capacity   elements. 4 elements   added   ArrayList   ArrayList  trimmed accordingly.\n"
     ]
    }
   ],
   "source": [
    "import re\n",
    "\n",
    "def remove_words_with_length_between_2_and_4(text):\n",
    "    pattern = re.compile(r'\\b\\w{2,4}\\b')\n",
    "    result = pattern.sub('', text)\n",
    "    return result\n",
    "\n",
    "sample_text = \"The following example creates an ArrayList with a capacity of 50 elements. 4 elements are then added to the ArrayList and the ArrayList is trimmed accordingly.\"\n",
    "output_text = remove_words_with_length_between_2_and_4(sample_text)\n",
    "print(output_text)\n"
   ]
  },
  {
   "cell_type": "code",
   "execution_count": null,
   "id": "01766117",
   "metadata": {},
   "outputs": [],
   "source": []
  }
 ],
 "metadata": {
  "kernelspec": {
   "display_name": "Python 3 (ipykernel)",
   "language": "python",
   "name": "python3"
  },
  "language_info": {
   "codemirror_mode": {
    "name": "ipython",
    "version": 3
   },
   "file_extension": ".py",
   "mimetype": "text/x-python",
   "name": "python",
   "nbconvert_exporter": "python",
   "pygments_lexer": "ipython3",
   "version": "3.9.13"
  }
 },
 "nbformat": 4,
 "nbformat_minor": 5
}
